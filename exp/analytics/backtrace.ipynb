{
 "cells": [
  {
   "cell_type": "code",
   "execution_count": 2,
   "metadata": {},
   "outputs": [],
   "source": [
    "import pandas as pd"
   ]
  },
  {
   "cell_type": "code",
   "execution_count": 6,
   "metadata": {},
   "outputs": [],
   "source": [
    "file_path = '/tmp/ddb/trace.log'\n",
    "\n",
    "start_ts = {}\n",
    "end_ts = {}\n",
    "\n",
    "with open(file_path, 'r') as file:\n",
    "    for line in file:\n",
    "        # print(line.strip())\n",
    "        parts = line.split(' ')\n",
    "        token = int(parts[-2].split('=')[1].strip(','))\n",
    "        time = float(parts[-1].split('=')[1].strip().strip(')'))\n",
    "        if '[process_command_start]' in line:\n",
    "            start_ts[token] = time\n",
    "        elif '[process_command_end]' in line:\n",
    "            end_ts[token] = time"
   ]
  },
  {
   "cell_type": "code",
   "execution_count": 8,
   "metadata": {},
   "outputs": [
    {
     "name": "stdout",
     "output_type": "stream",
     "text": [
      "Mean: 21.542054309843067 ms, P50: 6.626343529205769 ms, P90: 47.31944734230636 ms, P99: 268.8308065326417 ms\n"
     ]
    }
   ],
   "source": [
    "import numpy as np\n",
    "\n",
    "duration = []\n",
    "for key, value in start_ts.items():\n",
    "    duration.append((end_ts[key] - value) * 1000)\n",
    "\n",
    "mean_duration = np.mean(duration)\n",
    "p50_duration = np.percentile(duration, 50)\n",
    "p90_duration = np.percentile(duration, 90)\n",
    "p99_duration = np.percentile(duration, 99)\n",
    "\n",
    "print(f\"Mean: {mean_duration} ms, P50: {p50_duration} ms, P90: {p90_duration} ms, P99: {p99_duration} ms\")"
   ]
  }
 ],
 "metadata": {
  "kernelspec": {
   "display_name": ".venv",
   "language": "python",
   "name": "python3"
  },
  "language_info": {
   "codemirror_mode": {
    "name": "ipython",
    "version": 3
   },
   "file_extension": ".py",
   "mimetype": "text/x-python",
   "name": "python",
   "nbconvert_exporter": "python",
   "pygments_lexer": "ipython3",
   "version": "3.10.15"
  }
 },
 "nbformat": 4,
 "nbformat_minor": 2
}
