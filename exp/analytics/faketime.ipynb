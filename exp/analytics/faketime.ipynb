{
 "cells": [
  {
   "cell_type": "code",
   "execution_count": 1,
   "metadata": {},
   "outputs": [
    {
     "name": "stdout",
     "output_type": "stream",
     "text": [
      "Skipping line: read from config: address = tcp://127.0.0.1:10101, topic = service_discovery/report\n",
      "\n",
      "Skipping line: Message with delivery token 1 delivered\n",
      "\n",
      "Skipping line: Process PID: 2256448. Waiting for signal 40 to continue...\n",
      "\n",
      "Skipping line: Debugger attached. Resume execution...\n",
      "\n",
      "Skipping line: ddb connector initialized. meta = { pid = 2256448, comm_ip = 2130706433, ipv4_str =127.0.0.1 }\n",
      "\n"
     ]
    },
    {
     "data": {
      "text/html": [
       "<div>\n",
       "<style scoped>\n",
       "    .dataframe tbody tr th:only-of-type {\n",
       "        vertical-align: middle;\n",
       "    }\n",
       "\n",
       "    .dataframe tbody tr th {\n",
       "        vertical-align: top;\n",
       "    }\n",
       "\n",
       "    .dataframe thead th {\n",
       "        text-align: right;\n",
       "    }\n",
       "</style>\n",
       "<table border=\"1\" class=\"dataframe\">\n",
       "  <thead>\n",
       "    <tr style=\"text-align: right;\">\n",
       "      <th></th>\n",
       "      <th>fake</th>\n",
       "      <th>real</th>\n",
       "    </tr>\n",
       "  </thead>\n",
       "  <tbody>\n",
       "    <tr>\n",
       "      <th>0</th>\n",
       "      <td>1732103867575819</td>\n",
       "      <td>610</td>\n",
       "    </tr>\n",
       "    <tr>\n",
       "      <th>1</th>\n",
       "      <td>1732103867575896</td>\n",
       "      <td>684</td>\n",
       "    </tr>\n",
       "    <tr>\n",
       "      <th>2</th>\n",
       "      <td>1732103867575970</td>\n",
       "      <td>759</td>\n",
       "    </tr>\n",
       "    <tr>\n",
       "      <th>3</th>\n",
       "      <td>1732103867576045</td>\n",
       "      <td>833</td>\n",
       "    </tr>\n",
       "    <tr>\n",
       "      <th>4</th>\n",
       "      <td>1732103867576119</td>\n",
       "      <td>908</td>\n",
       "    </tr>\n",
       "  </tbody>\n",
       "</table>\n",
       "</div>"
      ],
      "text/plain": [
       "               fake real\n",
       "0  1732103867575819  610\n",
       "1  1732103867575896  684\n",
       "2  1732103867575970  759\n",
       "3  1732103867576045  833\n",
       "4  1732103867576119  908"
      ]
     },
     "execution_count": 1,
     "metadata": {},
     "output_type": "execute_result"
    }
   ],
   "source": [
    "import pandas as pd\n",
    "\n",
    "# Define the file path\n",
    "file_path = '../logs/faketime_pause.log'\n",
    "\n",
    "# Read the log file\n",
    "with open(file_path, 'r') as file:\n",
    "    lines = file.readlines()\n",
    "\n",
    "# Parse the log data\n",
    "data = []\n",
    "for line in lines:\n",
    "    if not line.startswith('1'):\n",
    "        print(f'Skipping line: {line}')\n",
    "        continue\n",
    "    parts = line.strip().split(',')\n",
    "    if len(parts) == 2:\n",
    "        faked_ts, real_elapsed = parts\n",
    "        data.append([faked_ts, real_elapsed])\n",
    "\n",
    "# Create a DataFrame\n",
    "df = pd.DataFrame(data, columns=['fake', 'real'])\n",
    "\n",
    "# Display the DataFrame\n",
    "df.head()"
   ]
  },
  {
   "cell_type": "code",
   "execution_count": 2,
   "metadata": {},
   "outputs": [
    {
     "data": {
      "text/html": [
       "<div>\n",
       "<style scoped>\n",
       "    .dataframe tbody tr th:only-of-type {\n",
       "        vertical-align: middle;\n",
       "    }\n",
       "\n",
       "    .dataframe tbody tr th {\n",
       "        vertical-align: top;\n",
       "    }\n",
       "\n",
       "    .dataframe thead th {\n",
       "        text-align: right;\n",
       "    }\n",
       "</style>\n",
       "<table border=\"1\" class=\"dataframe\">\n",
       "  <thead>\n",
       "    <tr style=\"text-align: right;\">\n",
       "      <th></th>\n",
       "      <th>fake</th>\n",
       "      <th>real</th>\n",
       "    </tr>\n",
       "  </thead>\n",
       "  <tbody>\n",
       "    <tr>\n",
       "      <th>0</th>\n",
       "      <td>0</td>\n",
       "      <td>0</td>\n",
       "    </tr>\n",
       "    <tr>\n",
       "      <th>1</th>\n",
       "      <td>77</td>\n",
       "      <td>74</td>\n",
       "    </tr>\n",
       "    <tr>\n",
       "      <th>2</th>\n",
       "      <td>151</td>\n",
       "      <td>149</td>\n",
       "    </tr>\n",
       "    <tr>\n",
       "      <th>3</th>\n",
       "      <td>226</td>\n",
       "      <td>223</td>\n",
       "    </tr>\n",
       "    <tr>\n",
       "      <th>4</th>\n",
       "      <td>300</td>\n",
       "      <td>298</td>\n",
       "    </tr>\n",
       "  </tbody>\n",
       "</table>\n",
       "</div>"
      ],
      "text/plain": [
       "   fake  real\n",
       "0     0     0\n",
       "1    77    74\n",
       "2   151   149\n",
       "3   226   223\n",
       "4   300   298"
      ]
     },
     "execution_count": 2,
     "metadata": {},
     "output_type": "execute_result"
    }
   ],
   "source": [
    "# normalize the data by substraction the first value\n",
    "df['fake'] = df['fake'].astype(int) - df['fake'].astype(int).iloc[0]\n",
    "df['real'] = df['real'].astype(int) - df['real'].astype(int).iloc[0]\n",
    "df.head()"
   ]
  },
  {
   "cell_type": "code",
   "execution_count": null,
   "metadata": {},
   "outputs": [
    {
     "data": {
      "text/plain": [
       "Index([ 26939,  54116,  81265, 108445, 135657, 162851, 190073, 217298, 244512,\n",
       "       271705, 298893, 326068, 353273, 380448],\n",
       "      dtype='int64')"
      ]
     },
     "execution_count": 12,
     "metadata": {},
     "output_type": "execute_result"
    }
   ],
   "source": [
    "# find the index where the two consecutive values at real rows are larger than 5000\n",
    "idx = df[(df['real'].diff() > 5000)].index\n",
    "idx "
   ]
  },
  {
   "cell_type": "code",
   "execution_count": 23,
   "metadata": {},
   "outputs": [
    {
     "data": {
      "text/plain": [
       "Index([ 26938,  54115,  81264, 108444, 135656, 162850, 190072, 217297, 244511,\n",
       "       271704, 298892, 326067, 353272, 380447],\n",
       "      dtype='int64')"
      ]
     },
     "execution_count": 23,
     "metadata": {},
     "output_type": "execute_result"
    }
   ],
   "source": [
    "suspend_pt = idx - 1\n",
    "suspend_pt"
   ]
  },
  {
   "cell_type": "code",
   "execution_count": 24,
   "metadata": {},
   "outputs": [
    {
     "data": {
      "text/html": [
       "<div>\n",
       "<style scoped>\n",
       "    .dataframe tbody tr th:only-of-type {\n",
       "        vertical-align: middle;\n",
       "    }\n",
       "\n",
       "    .dataframe tbody tr th {\n",
       "        vertical-align: top;\n",
       "    }\n",
       "\n",
       "    .dataframe thead th {\n",
       "        text-align: right;\n",
       "    }\n",
       "</style>\n",
       "<table border=\"1\" class=\"dataframe\">\n",
       "  <thead>\n",
       "    <tr style=\"text-align: right;\">\n",
       "      <th></th>\n",
       "      <th>fake</th>\n",
       "      <th>real</th>\n",
       "    </tr>\n",
       "  </thead>\n",
       "  <tbody>\n",
       "    <tr>\n",
       "      <th>26938</th>\n",
       "      <td>2012633</td>\n",
       "      <td>2012667</td>\n",
       "    </tr>\n",
       "    <tr>\n",
       "      <th>54115</th>\n",
       "      <td>4047749</td>\n",
       "      <td>5047136</td>\n",
       "    </tr>\n",
       "    <tr>\n",
       "      <th>81264</th>\n",
       "      <td>6081190</td>\n",
       "      <td>8080761</td>\n",
       "    </tr>\n",
       "    <tr>\n",
       "      <th>108444</th>\n",
       "      <td>8115755</td>\n",
       "      <td>11115504</td>\n",
       "    </tr>\n",
       "    <tr>\n",
       "      <th>135656</th>\n",
       "      <td>10151433</td>\n",
       "      <td>14151386</td>\n",
       "    </tr>\n",
       "    <tr>\n",
       "      <th>162850</th>\n",
       "      <td>12187140</td>\n",
       "      <td>17187179</td>\n",
       "    </tr>\n",
       "    <tr>\n",
       "      <th>190072</th>\n",
       "      <td>14223726</td>\n",
       "      <td>20223886</td>\n",
       "    </tr>\n",
       "    <tr>\n",
       "      <th>217297</th>\n",
       "      <td>16260334</td>\n",
       "      <td>23260817</td>\n",
       "    </tr>\n",
       "    <tr>\n",
       "      <th>244511</th>\n",
       "      <td>18296270</td>\n",
       "      <td>26297097</td>\n",
       "    </tr>\n",
       "    <tr>\n",
       "      <th>271704</th>\n",
       "      <td>20330820</td>\n",
       "      <td>29331929</td>\n",
       "    </tr>\n",
       "    <tr>\n",
       "      <th>298892</th>\n",
       "      <td>22365147</td>\n",
       "      <td>32366484</td>\n",
       "    </tr>\n",
       "    <tr>\n",
       "      <th>326067</th>\n",
       "      <td>24400685</td>\n",
       "      <td>35402262</td>\n",
       "    </tr>\n",
       "    <tr>\n",
       "      <th>353272</th>\n",
       "      <td>26436394</td>\n",
       "      <td>38438382</td>\n",
       "    </tr>\n",
       "    <tr>\n",
       "      <th>380447</th>\n",
       "      <td>28469520</td>\n",
       "      <td>41471830</td>\n",
       "    </tr>\n",
       "  </tbody>\n",
       "</table>\n",
       "</div>"
      ],
      "text/plain": [
       "            fake      real\n",
       "26938    2012633   2012667\n",
       "54115    4047749   5047136\n",
       "81264    6081190   8080761\n",
       "108444   8115755  11115504\n",
       "135656  10151433  14151386\n",
       "162850  12187140  17187179\n",
       "190072  14223726  20223886\n",
       "217297  16260334  23260817\n",
       "244511  18296270  26297097\n",
       "271704  20330820  29331929\n",
       "298892  22365147  32366484\n",
       "326067  24400685  35402262\n",
       "353272  26436394  38438382\n",
       "380447  28469520  41471830"
      ]
     },
     "execution_count": 24,
     "metadata": {},
     "output_type": "execute_result"
    }
   ],
   "source": [
    "# get all rows at the index\n",
    "df.loc[suspend_pt]"
   ]
  },
  {
   "cell_type": "code",
   "execution_count": 40,
   "metadata": {},
   "outputs": [
    {
     "data": {
      "text/plain": [
       "[0,\n",
       " 1,\n",
       " 2,\n",
       " 3,\n",
       " 4,\n",
       " 5,\n",
       " 6,\n",
       " 7,\n",
       " 8,\n",
       " 9,\n",
       " 10,\n",
       " 11,\n",
       " 12,\n",
       " 13,\n",
       " 14,\n",
       " 15,\n",
       " 16,\n",
       " 17,\n",
       " 18,\n",
       " 19,\n",
       " 20,\n",
       " 21,\n",
       " 22,\n",
       " 23,\n",
       " 24,\n",
       " 25,\n",
       " 26,\n",
       " 27,\n",
       " 28,\n",
       " 29,\n",
       " 30,\n",
       " 31,\n",
       " 32,\n",
       " 33,\n",
       " 34,\n",
       " 35,\n",
       " 36,\n",
       " 37,\n",
       " 38,\n",
       " 39,\n",
       " 40,\n",
       " 41,\n",
       " 42,\n",
       " 43]"
      ]
     },
     "execution_count": 40,
     "metadata": {},
     "output_type": "execute_result"
    }
   ],
   "source": [
    "[ int(n/1000000) for n in range(df['real'].min(), df['real'].max(), 1000000)]"
   ]
  },
  {
   "cell_type": "code",
   "execution_count": 45,
   "metadata": {},
   "outputs": [
    {
     "data": {
      "image/png": "[encoded data removed]",
      "text/plain": [
       "<Figure size 640x480 with 1 Axes>"
      ]
     },
     "metadata": {},
     "output_type": "display_data"
    }
   ],
   "source": [
    "# draw a scatter plot of the df data where the x-axis is the fake column and y-axis is a constant value\n",
    "# df['constant'] = 1  # Add a constant column for y-axis\n",
    "\n",
    "df_scaled = df.copy()\n",
    "df_scaled['real'] = df_scaled['real'] / 1000000\n",
    "df_scaled['fake'] = df_scaled['fake'] / 1000000\n",
    "\n",
    "import matplotlib.pyplot as plt\n",
    "\n",
    "ax = df_scaled.plot.scatter(x='real', y='fake', s=0.1)\n",
    "\n",
    "\n",
    "# ax.set_xticklabels([ int(n/1000000) for n in range(df['real'].min(), df['real'].max(), 1000000)])\n",
    "# ax.set_yticklabels([ int(n/1000000) for n in range(df['fake'].min(), df['fake'].max(), 1000000)])\n",
    "plt.show()"
   ]
  },
  {
   "cell_type": "code",
   "execution_count": 54,
   "metadata": {},
   "outputs": [
    {
     "data": {
      "text/html": [
       "<div>\n",
       "<style scoped>\n",
       "    .dataframe tbody tr th:only-of-type {\n",
       "        vertical-align: middle;\n",
       "    }\n",
       "\n",
       "    .dataframe tbody tr th {\n",
       "        vertical-align: top;\n",
       "    }\n",
       "\n",
       "    .dataframe thead th {\n",
       "        text-align: right;\n",
       "    }\n",
       "</style>\n",
       "<table border=\"1\" class=\"dataframe\">\n",
       "  <thead>\n",
       "    <tr style=\"text-align: right;\">\n",
       "      <th></th>\n",
       "      <th>fake</th>\n",
       "      <th>real</th>\n",
       "      <th>constant</th>\n",
       "    </tr>\n",
       "  </thead>\n",
       "  <tbody>\n",
       "    <tr>\n",
       "      <th>21939</th>\n",
       "      <td>1639107</td>\n",
       "      <td>1639134</td>\n",
       "      <td>1</td>\n",
       "    </tr>\n",
       "    <tr>\n",
       "      <th>21940</th>\n",
       "      <td>1639182</td>\n",
       "      <td>1639209</td>\n",
       "      <td>1</td>\n",
       "    </tr>\n",
       "    <tr>\n",
       "      <th>21941</th>\n",
       "      <td>1639256</td>\n",
       "      <td>1639283</td>\n",
       "      <td>1</td>\n",
       "    </tr>\n",
       "    <tr>\n",
       "      <th>21942</th>\n",
       "      <td>1639331</td>\n",
       "      <td>1639358</td>\n",
       "      <td>1</td>\n",
       "    </tr>\n",
       "    <tr>\n",
       "      <th>21943</th>\n",
       "      <td>1639405</td>\n",
       "      <td>1639432</td>\n",
       "      <td>1</td>\n",
       "    </tr>\n",
       "  </tbody>\n",
       "</table>\n",
       "</div>"
      ],
      "text/plain": [
       "          fake     real  constant\n",
       "21939  1639107  1639134         1\n",
       "21940  1639182  1639209         1\n",
       "21941  1639256  1639283         1\n",
       "21942  1639331  1639358         1\n",
       "21943  1639405  1639432         1"
      ]
     },
     "execution_count": 54,
     "metadata": {},
     "output_type": "execute_result"
    }
   ],
   "source": [
    "num_points = 10000\n",
    "\n",
    "extracted_data = pd.DataFrame()\n",
    "\n",
    "for i in idx:\n",
    "    start_idx = max(i - num_points // 2, 0)\n",
    "    end_idx = min(i + num_points // 2, len(df))\n",
    "    extracted_data = pd.concat([extracted_data, df.iloc[start_idx:end_idx]])\n",
    "    break\n",
    "\n",
    "extracted_data.head()"
   ]
  },
  {
   "cell_type": "code",
   "execution_count": 57,
   "metadata": {},
   "outputs": [
    {
     "data": {
      "text/plain": [
       "(fake        2012633\n",
       " real        2012667\n",
       " constant          1\n",
       " Name: 26938, dtype: int64,\n",
       " fake        2016445\n",
       " real        3015801\n",
       " constant          1\n",
       " Name: 26939, dtype: int64,\n",
       " fake        2016546\n",
       " real        3015897\n",
       " constant          1\n",
       " Name: 26940, dtype: int64)"
      ]
     },
     "execution_count": 57,
     "metadata": {},
     "output_type": "execute_result"
    }
   ],
   "source": [
    "df.iloc[idx[0] - 1], df.iloc[idx[0]], df.iloc[idx[0] + 1]"
   ]
  },
  {
   "cell_type": "code",
   "execution_count": 55,
   "metadata": {},
   "outputs": [
    {
     "data": {
      "image/png": "[encoded data removed]",
      "text/plain": [
       "<Figure size 640x480 with 1 Axes>"
      ]
     },
     "metadata": {},
     "output_type": "display_data"
    }
   ],
   "source": [
    "# draw a scatter plot of the df data where the x-axis is the fake column and y-axis is a constant value\n",
    "# df['constant'] = 1  # Add a constant column for y-axis\n",
    "\n",
    "extracted_data_scaled = extracted_data.copy()\n",
    "extracted_data_scaled['real'] = extracted_data_scaled['real'] / 1000000\n",
    "extracted_data_scaled['fake'] = extracted_data_scaled['fake'] / 1000000\n",
    "\n",
    "import matplotlib.pyplot as plt\n",
    "\n",
    "ax = extracted_data_scaled.plot.scatter(x='real', y='fake', s=0.1)\n",
    "\n",
    "\n",
    "# ax.set_xticklabels([ int(n/1000000) for n in range(df['real'].min(), df['real'].max(), 1000000)])\n",
    "# ax.set_yticklabels([ int(n/1000000) for n in range(df['fake'].min(), df['fake'].max(), 1000000)])\n",
    "plt.show()"
   ]
  },
  {
   "cell_type": "code",
   "execution_count": null,
   "metadata": {},
   "outputs": [],
   "source": []
  }
 ],
 "metadata": {
  "kernelspec": {
   "display_name": ".venv",
   "language": "python",
   "name": "python3"
  },
  "language_info": {
   "codemirror_mode": {
    "name": "ipython",
    "version": 3
   },
   "file_extension": ".py",
   "mimetype": "text/x-python",
   "name": "python",
   "nbconvert_exporter": "python",
   "pygments_lexer": "ipython3",
   "version": "3.10.15"
  }
 },
 "nbformat": 4,
 "nbformat_minor": 2
}
