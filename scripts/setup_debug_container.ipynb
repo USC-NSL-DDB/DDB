{
    "cells": [
        {
            "cell_type": "code",
            "execution_count": 8,
            "metadata": {},
            "outputs": [],
            "source": [
                "KUBECONFIG_PATH = \"/home/junzhouh/distributed_debugger/SocialNetwork-serviceweaver/kubeconfig\"\n",
                "SERVICEWEAVER_POD_LABEL = \"serviceweaver/app=gotosocial\" # eg. \"serviceweaver/app=server.out\""
            ]
        },
        {
            "cell_type": "code",
            "execution_count": 9,
            "metadata": {},
            "outputs": [],
            "source": [
                "\n",
                "from kubernetes import client,config\n",
                "config.load_kube_config(KUBECONFIG_PATH)\n",
                "api_instance=client.CoreV1Api()"
            ]
        },
        {
            "cell_type": "code",
            "execution_count": 10,
            "metadata": {},
            "outputs": [
                {
                    "data": {
                        "text/plain": [
                            "'ssh-debuggerd0d1eb4b-2f44-450b-a42d-fa863d51eb7e'"
                        ]
                    },
                    "execution_count": 10,
                    "metadata": {},
                    "output_type": "execute_result"
                }
            ],
            "source": [
                "from uuid import uuid4\n",
                "debug_container_name=f\"ssh-debugger{uuid4()}\"\n",
                "debug_container_name"
            ]
        },
        {
            "cell_type": "code",
            "execution_count": 11,
            "metadata": {},
            "outputs": [],
            "source": [
                "def setup_debug_container(pod_name: str, namespace: str = \"default\") -> None:\n",
                "\n",
                "    debug_container = client.V1EphemeralContainer(\n",
                "                    name=debug_container_name,\n",
                "                    image=\"h21565897/distributeddebugger:144\",\n",
                "                    target_container_name=\"serviceweaver\",\n",
                "                    image_pull_policy=\"Always\",\n",
                "                    stdin=True,\n",
                "                    tty=True,\n",
                "                    security_context=client.V1SecurityContext(\n",
                "                        privileged=True\n",
                "                    )\n",
                "                )\n",
                "    patch_body = {\n",
                "                \"spec\": {\n",
                "                    \"ephemeralContainers\": [\n",
                "                        debug_container\n",
                "                    ]\n",
                "                }\n",
                "            }\n",
                "            \n",
                "            # Apply the patch\n",
                "    api_instance.patch_namespaced_pod_ephemeralcontainers(\n",
                "        name=pod_name,\n",
                "        namespace=\"default\",\n",
                "        body=patch_body\n",
                "    )"
            ]
        },
        {
            "cell_type": "code",
            "execution_count": 12,
            "metadata": {},
            "outputs": [
                {
                    "data": {
                        "text/plain": [
                            "3"
                        ]
                    },
                    "execution_count": 12,
                    "metadata": {},
                    "output_type": "execute_result"
                }
            ],
            "source": [
                "pods = api_instance.list_namespaced_pod(\n",
                "            namespace=\"default\", label_selector=SERVICEWEAVER_POD_LABEL)\n",
                "len(pods.items)"
            ]
        },
        {
            "cell_type": "code",
            "execution_count": 13,
            "metadata": {},
            "outputs": [
                {
                    "name": "stdout",
                    "output_type": "stream",
                    "text": [
                        "Debug container injected for pod weaver-main-5bb81ff6-e4a25d35-66497655df-scgh9\n",
                        "Debug container injected for pod weaver-mediarequesthandler-5bb81ff6-5be2b6d6-654948d669-pmxt8\n",
                        "Debug container injected for pod weaver-statusrequesthandler-5bb81ff6-0afde9d8-6d8bbf76b4-fvs7v\n"
                    ]
                }
            ],
            "source": [
                "for pod in pods.items:\n",
                "    setup_debug_container(pod.metadata.name)\n",
                "    print(f\"Debug container injected for pod {pod.metadata.name}\")"
            ]
        }
    ],
    "metadata": {
        "kernelspec": {
            "display_name": "Python 3",
            "language": "python",
            "name": "python3"
        },
        "language_info": {
            "codemirror_mode": {
                "name": "ipython",
                "version": 3
            },
            "file_extension": ".py",
            "mimetype": "text/x-python",
            "name": "python",
            "nbconvert_exporter": "python",
            "pygments_lexer": "ipython3",
            "version": "3.11.11"
        }
    },
    "nbformat": 4,
    "nbformat_minor": 2
}
