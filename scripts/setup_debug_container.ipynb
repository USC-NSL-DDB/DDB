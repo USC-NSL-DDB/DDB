{
    "cells": [
        {
            "cell_type": "code",
            "execution_count": null,
            "metadata": {},
            "outputs": [],
            "source": [
                "KUBECONFIG_PATH = \"/home/junzhouh/distributed_debugger/SocialNetwork-serviceweaver/kubeconfig\"\n",
                "SERVICEWEAVER_POD_LABEL = \"serviceweaver/app=server.out\" # eg. \"serviceweaver/app=server.out\""
            ]
        },
        {
            "cell_type": "code",
            "execution_count": 4,
            "metadata": {},
            "outputs": [],
            "source": [
                "\n",
                "from kubernetes import client,config\n",
                "config.load_kube_config(KUBECONFIG_PATH)\n",
                "api_instance=client.CoreV1Api()"
            ]
        },
        {
            "cell_type": "code",
            "execution_count": 5,
            "metadata": {},
            "outputs": [
                {
                    "data": {
                        "text/plain": [
                            "'ssh-debuggera0ab95cf-f495-49be-bf1e-896e546afe8c'"
                        ]
                    },
                    "execution_count": 5,
                    "metadata": {},
                    "output_type": "execute_result"
                }
            ],
            "source": [
                "from uuid import uuid4\n",
                "debug_container_name=f\"ssh-debugger{uuid4()}\"\n",
                "debug_container_name"
            ]
        },
        {
            "cell_type": "code",
            "execution_count": 6,
            "metadata": {},
            "outputs": [],
            "source": [
                "def setup_debug_container(pod_name: str, namespace: str = \"default\") -> None:\n",
                "\n",
                "    debug_container = client.V1EphemeralContainer(\n",
                "                    name=debug_container_name,\n",
                "                    image=\"h21565897/distributeddebugger:144\",\n",
                "                    target_container_name=\"serviceweaver\",\n",
                "                    image_pull_policy=\"Always\",\n",
                "                    stdin=True,\n",
                "                    tty=True,\n",
                "                    security_context=client.V1SecurityContext(\n",
                "                        privileged=True\n",
                "                    )\n",
                "                )\n",
                "    patch_body = {\n",
                "                \"spec\": {\n",
                "                    \"ephemeralContainers\": [\n",
                "                        debug_container\n",
                "                    ]\n",
                "                }\n",
                "            }\n",
                "            \n",
                "            # Apply the patch\n",
                "    api_instance.patch_namespaced_pod_ephemeralcontainers(\n",
                "        name=pod_name,\n",
                "        namespace=\"default\",\n",
                "        body=patch_body\n",
                "    )"
            ]
        },
        {
            "cell_type": "code",
            "execution_count": 7,
            "metadata": {},
            "outputs": [
                {
                    "data": {
                        "text/plain": [
                            "14"
                        ]
                    },
                    "execution_count": 7,
                    "metadata": {},
                    "output_type": "execute_result"
                }
            ],
            "source": [
                "pods = api_instance.list_namespaced_pod(\n",
                "            namespace=\"default\", label_selector=SERVICEWEAVER_POD_LABEL)\n",
                "len(pods.items)"
            ]
        },
        {
            "cell_type": "code",
            "execution_count": 8,
            "metadata": {},
            "outputs": [
                {
                    "name": "stdout",
                    "output_type": "stream",
                    "text": [
                        "Debug container injected for pod scalingmachines-958e9cae-9106ee8d-5d594948f9-7lt7r\n",
                        "Debug container injected for pod server-backendservicer-958e9cae-586f2db3-5f8fb8df75-zfmf9\n",
                        "Debug container injected for pod server-ihometimelineservice-958e9cae-a9958526-84fb7f8dd5-ts2ss\n",
                        "Debug container injected for pod server-imediaservice-958e9cae-92e991b3-79dc7f8bd6-ln8s6\n",
                        "Debug container injected for pod server-isocialgraphservice-958e9cae-6f7f5686-5b7bb7d887-wzq6f\n",
                        "Debug container injected for pod server-itextservice-958e9cae-5453d508-6b774b6c87-qkjrk\n",
                        "Debug container injected for pod server-iuniqueidservice-958e9cae-e44cfbcd-5b9cc47799-jj67x\n",
                        "Debug container injected for pod server-iurlshortenservice-958e9cae-d2dab16f-58766597cd-tqjsz\n",
                        "Debug container injected for pod server-iusermentionservice-958e9cae-efebed60-5f4f5db5f6-qvx98\n",
                        "Debug container injected for pod server-iusertimelineservice-958e9cae-3a77e934-688dcd4fd9-7l4mb\n",
                        "Debug container injected for pod server-mediastorageservicer-958e9cae-0390fc14-5d4c6d754b-zw4z4\n",
                        "Debug container injected for pod server-poststorageservicer-958e9cae-562c158f-5956ddff86-8tbk4\n",
                        "Debug container injected for pod server-userservicer-958e9cae-89b2f59f-7ff4d6d585-pnxvf\n",
                        "Debug container injected for pod weaver-main-958e9cae-b82ada60-6f595cbcd5-qqwxn\n"
                    ]
                }
            ],
            "source": [
                "for pod in pods.items:\n",
                "    setup_debug_container(pod.metadata.name)\n",
                "    print(f\"Debug container injected for pod {pod.metadata.name}\")"
            ]
        }
    ],
    "metadata": {
        "kernelspec": {
            "display_name": "telebot",
            "language": "python",
            "name": "python3"
        },
        "language_info": {
            "codemirror_mode": {
                "name": "ipython",
                "version": 3
            },
            "file_extension": ".py",
            "mimetype": "text/x-python",
            "name": "python",
            "nbconvert_exporter": "python",
            "pygments_lexer": "ipython3",
            "version": "3.12.3"
        }
    },
    "nbformat": 4,
    "nbformat_minor": 2
}
