{
    "cells": [
        {
            "cell_type": "code",
            "execution_count": null,
            "metadata": {},
            "outputs": [],
            "source": [
                "KUBECONFIG_PATH = \"\"\n",
                "SERVICEWEAVER_POD_LABEL = \"\""
            ]
        },
        {
            "cell_type": "code",
            "execution_count": null,
            "metadata": {},
            "outputs": [],
            "source": [
                "\n",
                "from kubernetes import client,config\n",
                "config.load_kube_config(KUBECONFIG_PATH)\n",
                "api_instance=client.CoreV1Api()"
            ]
        },
        {
            "cell_type": "code",
            "execution_count": null,
            "metadata": {},
            "outputs": [],
            "source": [
                "from uuid import uuid4\n",
                "debug_container_name=f\"ssh-debugger{uuid4()}\"\n",
                "debug_container_name"
            ]
        },
        {
            "cell_type": "code",
            "execution_count": null,
            "metadata": {},
            "outputs": [],
            "source": [
                "def setup_debug_container(pod_name: str, namespace: str = \"default\") -> None:\n",
                "\n",
                "    debug_container = client.V1EphemeralContainer(\n",
                "                    name=debug_container_name,\n",
                "                    image=\"h21565897/distributeddebugger:144\",\n",
                "                    target_container_name=\"serviceweaver\",\n",
                "                    image_pull_policy=\"Always\",\n",
                "                    stdin=True,\n",
                "                    tty=True,\n",
                "                    security_context=client.V1SecurityContext(\n",
                "                        privileged=True\n",
                "                    )\n",
                "                )\n",
                "    patch_body = {\n",
                "                \"spec\": {\n",
                "                    \"ephemeralContainers\": [\n",
                "                        debug_container\n",
                "                    ]\n",
                "                }\n",
                "            }\n",
                "            \n",
                "            # Apply the patch\n",
                "    api_instance.patch_namespaced_pod_ephemeralcontainers(\n",
                "        name=pod_name,\n",
                "        namespace=\"default\",\n",
                "        body=patch_body\n",
                "    )"
            ]
        },
        {
            "cell_type": "code",
            "execution_count": null,
            "metadata": {},
            "outputs": [],
            "source": [
                "pods = api_instance.list_namespaced_pod(\n",
                "            namespace=\"default\", label_selector=SERVICEWEAVER_POD_LABEL)\n",
                "len(pods.items)"
            ]
        },
        {
            "cell_type": "code",
            "execution_count": null,
            "metadata": {},
            "outputs": [],
            "source": [
                "for pod in pods.items:\n",
                "    setup_debug_container(pod.metadata.name)\n",
                "    print(f\"Debug container injected for pod {pod.metadata.name}\")"
            ]
        }
    ],
    "metadata": {
        "kernelspec": {
            "display_name": ".venv",
            "language": "python",
            "name": "python3"
        },
        "language_info": {
            "name": "python",
            "version": "3.12.3"
        }
    },
    "nbformat": 4,
    "nbformat_minor": 2
}
